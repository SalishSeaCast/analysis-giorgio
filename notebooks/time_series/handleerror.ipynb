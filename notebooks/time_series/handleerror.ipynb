{
 "cells": [
  {
   "cell_type": "code",
   "execution_count": 1,
   "metadata": {
    "collapsed": true
   },
   "outputs": [],
   "source": [
    "import subprocess\n",
    "\n",
    "from subprocess import STDOUT, check_output\n",
    "\n",
    "import os\n",
    "\n",
    "import time\n",
    "\n",
    "import io\n",
    "import sys\n",
    "\n",
    "import timeit\n",
    "\n",
    "import signal"
   ]
  },
  {
   "cell_type": "code",
   "execution_count": 2,
   "metadata": {
    "collapsed": true
   },
   "outputs": [],
   "source": []
  },
  {
   "cell_type": "code",
   "execution_count": null,
   "metadata": {
    "collapsed": false
   },
   "outputs": [],
   "source": [
    "\n"
   ]
  },
  {
   "cell_type": "code",
   "execution_count": 3,
   "metadata": {
    "collapsed": false
   },
   "outputs": [],
   "source": []
  },
  {
   "cell_type": "code",
   "execution_count": null,
   "metadata": {
    "collapsed": false
   },
   "outputs": [],
   "source": []
  },
  {
   "cell_type": "code",
   "execution_count": 4,
   "metadata": {
    "collapsed": false
   },
   "outputs": [],
   "source": []
  },
  {
   "cell_type": "code",
   "execution_count": 5,
   "metadata": {
    "collapsed": false
   },
   "outputs": [
    {
     "name": "stdout",
     "output_type": "stream",
     "text": [
      "b'  - Vertical Transport: max    75084.740602872247       min   -18585.012957035688     \\n'\n",
      "took too long\n"
     ]
    }
   ],
   "source": [
    "def handler(signum, frame):\n",
    "    raise OSError\n",
    "\n",
    "ex_dir = \"/home/gsgarbi/analysis-giorgio/arianefiles/2016/07/17\"\n",
    "os.chdir(ex_dir)\n",
    "ar = subprocess.Popen('ariane', stdout=subprocess.PIPE)\n",
    "\n",
    "reader = ar.stdout\n",
    "\n",
    "while ar.poll() is None:\n",
    "\n",
    "\n",
    "# Set the signal handler and a 5-second alarm\n",
    "    signal.signal(signal.SIGALRM, handler)\n",
    "\n",
    "\n",
    "\n",
    "    try:\n",
    "        signal.alarm(5)\n",
    "        \n",
    "        w = reader.readline()\n",
    "        \n",
    "        # This reader.readline() may hang indefinitely\n",
    "        \n",
    "        signal.alarm(0) #deactivate the alarm\n",
    "        \n",
    "    except OSError:\n",
    "        ar.kill()\n",
    "        \n",
    "\n",
    "  "
   ]
  },
  {
   "cell_type": "code",
   "execution_count": null,
   "metadata": {
    "collapsed": false
   },
   "outputs": [],
   "source": [
    "ar.poll()"
   ]
  },
  {
   "cell_type": "code",
   "execution_count": null,
   "metadata": {
    "collapsed": true
   },
   "outputs": [],
   "source": []
  }
 ],
 "metadata": {
  "anaconda-cloud": {},
  "kernelspec": {
   "display_name": "Python [default]",
   "language": "python",
   "name": "python3"
  },
  "language_info": {
   "codemirror_mode": {
    "name": "ipython",
    "version": 3
   },
   "file_extension": ".py",
   "mimetype": "text/x-python",
   "name": "python",
   "nbconvert_exporter": "python",
   "pygments_lexer": "ipython3",
   "version": "3.5.2"
  }
 },
 "nbformat": 4,
 "nbformat_minor": 2
}
