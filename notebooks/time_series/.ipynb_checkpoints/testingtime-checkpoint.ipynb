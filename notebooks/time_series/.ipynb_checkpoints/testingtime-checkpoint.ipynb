{
 "cells": [
  {
   "cell_type": "code",
   "execution_count": 2,
   "metadata": {
    "collapsed": false
   },
   "outputs": [],
   "source": [
    "import subprocess\n",
    "\n",
    "from subprocess import Popen\n",
    "\n",
    "from subprocess import STDOUT, check_output\n",
    "\n",
    "\n"
   ]
  },
  {
   "cell_type": "code",
   "execution_count": null,
   "metadata": {
    "collapsed": false
   },
   "outputs": [],
   "source": []
  },
  {
   "cell_type": "code",
   "execution_count": 3,
   "metadata": {
    "collapsed": false
   },
   "outputs": [],
   "source": [
    "proc = subprocess.Popen('ls')\n",
    "try:\n",
    "    outs, errs = proc.communicate(timeout=15)\n",
    "except TimeoutExpired:\n",
    "    proc.kill()\n",
    "    outs, errs = proc.communicate()"
   ]
  },
  {
   "cell_type": "code",
   "execution_count": 4,
   "metadata": {
    "collapsed": false
   },
   "outputs": [],
   "source": [
    "#!/usr/bin/env python3\n",
    "# -*- coding: utf-8 -*-\n",
    "\"\"\"\n",
    "Created on Wed Feb 15 11:31:31 2017\n",
    "\n",
    "@author: gsgarbi\n",
    "\"\"\"\n",
    "\n",
    "import time, os\n",
    "\n",
    "from shutil import copyfile\n",
    "\n",
    "from timelimit import Command as Command\n",
    "\n",
    "from createnl import nl as nl\n",
    "\n",
    "\n",
    "def runexample(arianedir):\n",
    "    \n",
    "    \n",
    "    start_time = time.time()\n",
    " \n",
    "\n",
    "    os.chdir(arianedir)\n",
    "    output = check_output('ariane', stderr=STDOUT, timeout= 5)\n",
    "    \n",
    "    print ()\n",
    "    \n",
    "    t = int(time.time() - start_time)\n",
    "    \n",
    "    return t\n",
    "    \n",
    "\n",
    "\n",
    "\n",
    "def runariane(arianedir, resultsdir, T):\n",
    "    \n",
    "    start_time = time.time()\n",
    "    \n",
    "\n",
    "\n",
    "    os.chdir(arianedir)\n",
    " \n",
    "\n",
    " \n",
    "    \n",
    "    src = arianedir + \"/traj.txt\"\n",
    "    \n",
    "    dst = resultsdir + \"/traj.txt\"\n",
    "    \n",
    "    copyfile(src, dst)\n",
    "    \n",
    "    \n",
    "    print(\"the run took --- %s seconds ---\" % (time.time() - start_time))\n",
    "    print (\"find results in \", dst)\n",
    "    \n",
    "    t = int(time.time() - start_time)\n",
    "    \n",
    "    return t"
   ]
  },
  {
   "cell_type": "code",
   "execution_count": 5,
   "metadata": {
    "collapsed": true
   },
   "outputs": [],
   "source": [
    "#!/usr/bin/env python3\n",
    "# -*- coding: utf-8 -*-\n",
    "\"\"\"\n",
    "Created on Thu Feb  9 21:43:50 2017\n",
    "\n",
    "@author: gsgarbi\n",
    "\"\"\"\n",
    "\"\"\"inputs:  bparam = st(d=18, m=7, y=2016)\n",
    "            \n",
    "\"\"\"\n",
    "\n",
    "import signal\n",
    "\n",
    "#signal.pause()\n",
    "\n",
    "\n",
    "import os\n",
    "\n",
    "import time\n",
    "\n",
    "import numpy as np\n",
    "\n",
    "\n",
    "import signal\n",
    "from contextlib import contextmanager\n",
    "\n",
    "from runariane import runariane as runariane\n",
    "\n",
    "\n",
    "\n",
    "\n",
    "\n",
    "\n",
    "from shutil import copyfile\n",
    "\n",
    "import datetime as dt\n",
    "\n",
    "\n",
    "inp = np.loadtxt(\"/home/gsgarbi/analysis-giorgio/notebooks/time_series/inp.txt\", delimiter = ' ')\n",
    "\n",
    "values = [int(x) for x in inp]\n",
    "       \n",
    "keys = [\"year\", \"month\", \"day\", \"tlength\", \"length\"]\n",
    "\n",
    "date_input = dict(zip(keys, values))\n",
    "\n",
    "first_date = dt.datetime(\n",
    "                 year = date_input[\"year\"], \n",
    "                 month = date_input[\"month\"], \n",
    "                 day = date_input[\"day\"]\n",
    "                 )\n",
    "\n",
    "tlength = date_input[\"tlength\"] \n",
    "\n",
    "length = date_input[\"length\"] \n",
    "\n",
    "\n",
    "\n",
    "\n",
    "\n",
    "\n",
    "\n",
    "from createdirs import createdirs\n",
    "from createnl import nl\n",
    "from create_inpos import initp\n",
    "from linkvel import link as link\n",
    "from catch_error import catch_error as catch_error\n",
    "\n",
    "from runarianet import run_example as run_example\n",
    "\n",
    "from runarianet import runariane as runarianet\n",
    "\n",
    "\n",
    "    \n",
    "    \n",
    "T = 30 * tlength + 5 #estimated time\n",
    "    "
   ]
  },
  {
   "cell_type": "code",
   "execution_count": 6,
   "metadata": {
    "collapsed": false
   },
   "outputs": [],
   "source": [
    "# for i in range(length):\n",
    "#     first_date = dt.datetime(\n",
    "#              year = date_input[\"year\"], \n",
    "#              month = date_input[\"month\"], \n",
    "#              day = date_input[\"day\"]\n",
    "#              ) + dt.timedelta(hours = 24)\n",
    "#     info = main(first_date, tlength)\n",
    "\n",
    "#     infos.append(info)\n",
    "\n",
    "#     print (\"-------------------|--------------------\")\n",
    "\n",
    "#     for i in infos:\n",
    "\n",
    "#         print (\"xxxxxxxxxxxxxxx\",\n",
    "#                i,\n",
    "#                \"xxxxxxxxxxxxxxx\")"
   ]
  },
  {
   "cell_type": "code",
   "execution_count": null,
   "metadata": {
    "collapsed": true
   },
   "outputs": [],
   "source": []
  },
  {
   "cell_type": "code",
   "execution_count": 7,
   "metadata": {
    "collapsed": false
   },
   "outputs": [
    {
     "ename": "SyntaxError",
     "evalue": "invalid syntax (<ipython-input-7-f4a6f77421bd>, line 1)",
     "output_type": "error",
     "traceback": [
      "\u001b[0;36m  File \u001b[0;32m\"<ipython-input-7-f4a6f77421bd>\"\u001b[0;36m, line \u001b[0;32m1\u001b[0m\n\u001b[0;31m    if __name__ = \"__main__\":\u001b[0m\n\u001b[0m                ^\u001b[0m\n\u001b[0;31mSyntaxError\u001b[0m\u001b[0;31m:\u001b[0m invalid syntax\n"
     ]
    }
   ],
   "source": [
    "# if __name__ == \"__main__\":\n",
    "#     runexample(arianedir=\"/home/gsgarbi/analysis-giorgio/arianefiles/2016/07/17\")\n",
    "    "
   ]
  },
  {
   "cell_type": "code",
   "execution_count": 8,
   "metadata": {
    "collapsed": false
   },
   "outputs": [
    {
     "ename": "NameError",
     "evalue": "name 'arianedir' is not defined",
     "output_type": "error",
     "traceback": [
      "\u001b[0;31m---------------------------------------------------------------------------\u001b[0m",
      "\u001b[0;31mNameError\u001b[0m                                 Traceback (most recent call last)",
      "\u001b[0;32m<ipython-input-8-0887bb2360e8>\u001b[0m in \u001b[0;36m<module>\u001b[0;34m()\u001b[0m\n\u001b[1;32m      4\u001b[0m \u001b[0;32mfor\u001b[0m \u001b[0mi\u001b[0m \u001b[0;32min\u001b[0m \u001b[0mrange\u001b[0m\u001b[0;34m(\u001b[0m\u001b[0;36m10\u001b[0m\u001b[0;34m)\u001b[0m\u001b[0;34m:\u001b[0m\u001b[0;34m\u001b[0m\u001b[0m\n\u001b[1;32m      5\u001b[0m     \u001b[0mstart_time\u001b[0m \u001b[0;34m=\u001b[0m \u001b[0mtime\u001b[0m\u001b[0;34m.\u001b[0m\u001b[0mtime\u001b[0m\u001b[0;34m(\u001b[0m\u001b[0;34m)\u001b[0m\u001b[0;34m\u001b[0m\u001b[0m\n\u001b[0;32m----> 6\u001b[0;31m     \u001b[0mos\u001b[0m\u001b[0;34m.\u001b[0m\u001b[0mchdir\u001b[0m\u001b[0;34m(\u001b[0m\u001b[0marianedir\u001b[0m\u001b[0;34m)\u001b[0m\u001b[0;34m\u001b[0m\u001b[0m\n\u001b[0m\u001b[1;32m      7\u001b[0m \u001b[0;34m\u001b[0m\u001b[0m\n\u001b[1;32m      8\u001b[0m     \u001b[0moutput\u001b[0m \u001b[0;34m=\u001b[0m \u001b[0mcheck_output\u001b[0m\u001b[0;34m(\u001b[0m\u001b[0;34m'ariane'\u001b[0m\u001b[0;34m,\u001b[0m \u001b[0mstderr\u001b[0m\u001b[0;34m=\u001b[0m\u001b[0mSTDOUT\u001b[0m\u001b[0;34m,\u001b[0m \u001b[0mtimeout\u001b[0m\u001b[0;34m=\u001b[0m \u001b[0;36m10\u001b[0m\u001b[0;34m)\u001b[0m\u001b[0;34m\u001b[0m\u001b[0m\n",
      "\u001b[0;31mNameError\u001b[0m: name 'arianedir' is not defined"
     ]
    }
   ],
   "source": [
    "arianedir=\"/home/gsgarbi/analysis-giorgio/arianefiles/2016/07/17\"\n",
    "\n",
    "\n",
    "for i in range(10):\n",
    "    start_time = time.time()\n",
    "    os.chdir(arianedir)\n",
    "\n",
    "    output = check_output('ariane', stderr=STDOUT, timeout= 10)\n",
    "    \n",
    "\n",
    "    t = int(time.time() - start_time)"
   ]
  },
  {
   "cell_type": "code",
   "execution_count": null,
   "metadata": {
    "collapsed": true
   },
   "outputs": [],
   "source": []
  }
 ],
 "metadata": {
  "anaconda-cloud": {},
  "kernelspec": {
   "display_name": "Python [default]",
   "language": "python",
   "name": "python3"
  },
  "language_info": {
   "codemirror_mode": {
    "name": "ipython",
    "version": 3
   },
   "file_extension": ".py",
   "mimetype": "text/x-python",
   "name": "python",
   "nbconvert_exporter": "python",
   "pygments_lexer": "ipython3",
   "version": "3.5.2"
  }
 },
 "nbformat": 4,
 "nbformat_minor": 2
}
